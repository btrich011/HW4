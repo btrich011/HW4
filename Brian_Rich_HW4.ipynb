{
 "cells": [
  {
   "cell_type": "markdown",
   "id": "44aa8fba",
   "metadata": {},
   "source": [
    "# **HW4**"
   ]
  },
  {
   "cell_type": "code",
   "execution_count": null,
   "id": "0d553c8b",
   "metadata": {},
   "outputs": [],
   "source": []
  },
  {
   "cell_type": "code",
   "execution_count": 1,
   "id": "8b84e5ef",
   "metadata": {},
   "outputs": [
    {
     "name": "stdout",
     "output_type": "stream",
     "text": [
      "[0 0 0 0 0 0 0 0 0 0 0 0 0 0 0 0 0 0 0 0 0 0 0 0 0 0 0 0 0 0 0 0 0 0 0 0 0\n",
      " 0 0 0 0 0 0 0 0 0 0 0 0 0 0 0 0 0 0 0 0 0 0 1 1 1 1 1 1 1 1 1 1 1 1 1 1 1\n",
      " 1 1 1 1 1 1 1 1 1 1 1 1 1 1 1 1 1 1 1 1 1 1 1 1 1 1 1 1 1 1 1 1 1 1 1 1 1\n",
      " 1 1 1 1 1 1 1 1 1 1 1 1 1 1 1 1 1 1 1 2 2 2 2 2 2 2 2 2 2 2 2 2 2 2 2 2 2\n",
      " 2 2 2 2 2 2 2 2 2 2 2 2 2 2 2 2 2 2 2 2 2 2 2 2 2 2 2 2 2 2]\n"
     ]
    }
   ],
   "source": [
    "%matplotlib inline\n",
    "import matplotlib.pyplot as plt\n",
    "import json\n",
    "import pandas as pd\n",
    "import pyclustering\n",
    "import numpy as np\n",
    "import sklearn\n",
    "from sklearn.neural_network import MLPClassifier\n",
    "from sklearn.datasets import load_wine\n",
    "wine = load_wine()\n",
    "print(wine.target)\n",
    "\n",
    "#data_cols = ['alcohol', 'malic_acid','ash','alcalinity_of_ash','magnesium','total_phenols','flavanoids', 'nonflavanoid_phenols', 'proanthocyanins', 'color_intensity', 'hue', 'od280/od315_of_diluted_wines', 'proline']"
   ]
  },
  {
   "cell_type": "markdown",
   "id": "23c4e9a8",
   "metadata": {},
   "source": [
    "Looks like there's three classes here.  REMEMBER: Python starts with a zero, i.e. 1, 2, 3 is 0, 1, 2."
   ]
  },
  {
   "cell_type": "code",
   "execution_count": 2,
   "id": "6019d7c8",
   "metadata": {},
   "outputs": [
    {
     "name": "stdout",
     "output_type": "stream",
     "text": [
      "(178, 13)\n",
      "(178,)\n"
     ]
    }
   ],
   "source": [
    "X = wine.data\n",
    "y = wine.target\n",
    "#\n",
    "print(np.shape(X))\n",
    "print(np.shape(y))"
   ]
  },
  {
   "cell_type": "markdown",
   "id": "e20a0caf",
   "metadata": {},
   "source": [
    "So now I know there are 13 colums and 178 data points."
   ]
  },
  {
   "cell_type": "code",
   "execution_count": 3,
   "id": "9675ac2b",
   "metadata": {},
   "outputs": [],
   "source": [
    "from sklearn.model_selection import train_test_split\n",
    "\n",
    "X_train,X_test,y_train,y_test = train_test_split(X,y,test_size=0.2,random_state=8675309)"
   ]
  },
  {
   "cell_type": "markdown",
   "id": "4443d10b",
   "metadata": {},
   "source": [
    "Splitting the data so I have 80% to train with and 20% to reserve for testing."
   ]
  },
  {
   "cell_type": "code",
   "execution_count": 4,
   "id": "edb4f2d2",
   "metadata": {},
   "outputs": [],
   "source": [
    "from sklearn.preprocessing import StandardScaler\n",
    "scaler = StandardScaler()\n",
    "scaler.fit(X_train)\n",
    "\n",
    "X_train = scaler.transform(X_train)\n",
    "X_test = scaler.transform(X_test)"
   ]
  },
  {
   "cell_type": "code",
   "execution_count": 5,
   "id": "48c9b6bf",
   "metadata": {},
   "outputs": [
    {
     "data": {
      "text/html": [
       "<style>#sk-container-id-1 {color: black;background-color: white;}#sk-container-id-1 pre{padding: 0;}#sk-container-id-1 div.sk-toggleable {background-color: white;}#sk-container-id-1 label.sk-toggleable__label {cursor: pointer;display: block;width: 100%;margin-bottom: 0;padding: 0.3em;box-sizing: border-box;text-align: center;}#sk-container-id-1 label.sk-toggleable__label-arrow:before {content: \"▸\";float: left;margin-right: 0.25em;color: #696969;}#sk-container-id-1 label.sk-toggleable__label-arrow:hover:before {color: black;}#sk-container-id-1 div.sk-estimator:hover label.sk-toggleable__label-arrow:before {color: black;}#sk-container-id-1 div.sk-toggleable__content {max-height: 0;max-width: 0;overflow: hidden;text-align: left;background-color: #f0f8ff;}#sk-container-id-1 div.sk-toggleable__content pre {margin: 0.2em;color: black;border-radius: 0.25em;background-color: #f0f8ff;}#sk-container-id-1 input.sk-toggleable__control:checked~div.sk-toggleable__content {max-height: 200px;max-width: 100%;overflow: auto;}#sk-container-id-1 input.sk-toggleable__control:checked~label.sk-toggleable__label-arrow:before {content: \"▾\";}#sk-container-id-1 div.sk-estimator input.sk-toggleable__control:checked~label.sk-toggleable__label {background-color: #d4ebff;}#sk-container-id-1 div.sk-label input.sk-toggleable__control:checked~label.sk-toggleable__label {background-color: #d4ebff;}#sk-container-id-1 input.sk-hidden--visually {border: 0;clip: rect(1px 1px 1px 1px);clip: rect(1px, 1px, 1px, 1px);height: 1px;margin: -1px;overflow: hidden;padding: 0;position: absolute;width: 1px;}#sk-container-id-1 div.sk-estimator {font-family: monospace;background-color: #f0f8ff;border: 1px dotted black;border-radius: 0.25em;box-sizing: border-box;margin-bottom: 0.5em;}#sk-container-id-1 div.sk-estimator:hover {background-color: #d4ebff;}#sk-container-id-1 div.sk-parallel-item::after {content: \"\";width: 100%;border-bottom: 1px solid gray;flex-grow: 1;}#sk-container-id-1 div.sk-label:hover label.sk-toggleable__label {background-color: #d4ebff;}#sk-container-id-1 div.sk-serial::before {content: \"\";position: absolute;border-left: 1px solid gray;box-sizing: border-box;top: 0;bottom: 0;left: 50%;z-index: 0;}#sk-container-id-1 div.sk-serial {display: flex;flex-direction: column;align-items: center;background-color: white;padding-right: 0.2em;padding-left: 0.2em;position: relative;}#sk-container-id-1 div.sk-item {position: relative;z-index: 1;}#sk-container-id-1 div.sk-parallel {display: flex;align-items: stretch;justify-content: center;background-color: white;position: relative;}#sk-container-id-1 div.sk-item::before, #sk-container-id-1 div.sk-parallel-item::before {content: \"\";position: absolute;border-left: 1px solid gray;box-sizing: border-box;top: 0;bottom: 0;left: 50%;z-index: -1;}#sk-container-id-1 div.sk-parallel-item {display: flex;flex-direction: column;z-index: 1;position: relative;background-color: white;}#sk-container-id-1 div.sk-parallel-item:first-child::after {align-self: flex-end;width: 50%;}#sk-container-id-1 div.sk-parallel-item:last-child::after {align-self: flex-start;width: 50%;}#sk-container-id-1 div.sk-parallel-item:only-child::after {width: 0;}#sk-container-id-1 div.sk-dashed-wrapped {border: 1px dashed gray;margin: 0 0.4em 0.5em 0.4em;box-sizing: border-box;padding-bottom: 0.4em;background-color: white;}#sk-container-id-1 div.sk-label label {font-family: monospace;font-weight: bold;display: inline-block;line-height: 1.2em;}#sk-container-id-1 div.sk-label-container {text-align: center;}#sk-container-id-1 div.sk-container {/* jupyter's `normalize.less` sets `[hidden] { display: none; }` but bootstrap.min.css set `[hidden] { display: none !important; }` so we also need the `!important` here to be able to override the default hidden behavior on the sphinx rendered scikit-learn.org. See: https://github.com/scikit-learn/scikit-learn/issues/21755 */display: inline-block !important;position: relative;}#sk-container-id-1 div.sk-text-repr-fallback {display: none;}</style><div id=\"sk-container-id-1\" class=\"sk-top-container\"><div class=\"sk-text-repr-fallback\"><pre>MLPClassifier(hidden_layer_sizes=(10, 10, 10), max_iter=2500,\n",
       "              random_state=8675309)</pre><b>In a Jupyter environment, please rerun this cell to show the HTML representation or trust the notebook. <br />On GitHub, the HTML representation is unable to render, please try loading this page with nbviewer.org.</b></div><div class=\"sk-container\" hidden><div class=\"sk-item\"><div class=\"sk-estimator sk-toggleable\"><input class=\"sk-toggleable__control sk-hidden--visually\" id=\"sk-estimator-id-1\" type=\"checkbox\" checked><label for=\"sk-estimator-id-1\" class=\"sk-toggleable__label sk-toggleable__label-arrow\">MLPClassifier</label><div class=\"sk-toggleable__content\"><pre>MLPClassifier(hidden_layer_sizes=(10, 10, 10), max_iter=2500,\n",
       "              random_state=8675309)</pre></div></div></div></div></div>"
      ],
      "text/plain": [
       "MLPClassifier(hidden_layer_sizes=(10, 10, 10), max_iter=2500,\n",
       "              random_state=8675309)"
      ]
     },
     "execution_count": 5,
     "metadata": {},
     "output_type": "execute_result"
    }
   ],
   "source": [
    "mlp = MLPClassifier(hidden_layer_sizes=(10, 10, 10), max_iter=2500,random_state=8675309)\n",
    "\n",
    "mlp.fit(X_train, y_train)"
   ]
  },
  {
   "cell_type": "markdown",
   "id": "b374a174",
   "metadata": {},
   "source": [
    "Got the data scaled and transformed.  I don't know how many layers to run so I'm just going to default to 10 since I saw Dr. Clayton do that in her code.  I'll change the max iterations and run with a random state number that's easy to remember... and hum to."
   ]
  },
  {
   "cell_type": "code",
   "execution_count": 6,
   "id": "3998600f",
   "metadata": {},
   "outputs": [
    {
     "data": {
      "text/plain": [
       "[<matplotlib.lines.Line2D at 0x1b43a497ee0>]"
      ]
     },
     "execution_count": 6,
     "metadata": {},
     "output_type": "execute_result"
    },
    {
     "data": {
      "image/png": "[encoded data removed]",
      "text/plain": [
       "<Figure size 640x480 with 1 Axes>"
      ]
     },
     "metadata": {},
     "output_type": "display_data"
    }
   ],
   "source": [
    "predictions = mlp.predict(X_test)\n",
    "\n",
    "plt.plot(y_test, predictions, 'ro')\n",
    "plt.plot([0, 2], [0, 2],'k')"
   ]
  },
  {
   "cell_type": "markdown",
   "id": "853274bf",
   "metadata": {},
   "source": [
    "Plot looks pretty good.  I need to remember that python starts at zero, so that's why the plot numbers end at \"2\"."
   ]
  },
  {
   "cell_type": "code",
   "execution_count": 7,
   "id": "58bf5efd",
   "metadata": {
    "scrolled": true
   },
   "outputs": [
    {
     "name": "stdout",
     "output_type": "stream",
     "text": [
      "[[15  0  0]\n",
      " [ 0  9  1]\n",
      " [ 0  0 11]]\n",
      "              precision    recall  f1-score   support\n",
      "\n",
      "           0       1.00      1.00      1.00        15\n",
      "           1       1.00      0.90      0.95        10\n",
      "           2       0.92      1.00      0.96        11\n",
      "\n",
      "    accuracy                           0.97        36\n",
      "   macro avg       0.97      0.97      0.97        36\n",
      "weighted avg       0.97      0.97      0.97        36\n",
      "\n"
     ]
    }
   ],
   "source": [
    "from sklearn.metrics import classification_report, confusion_matrix\n",
    "\n",
    "print(confusion_matrix(y_test,predictions))\n",
    "print(classification_report(y_test,predictions))"
   ]
  },
  {
   "cell_type": "markdown",
   "id": "e4dfb2b9",
   "metadata": {},
   "source": [
    "The confusion matrix is in line with what we can observe in the plot.  The model is very good at predicting class-0 and class-1 (Precision is 100%), and mostly good at predicting class-2 (Precision 92%).  It is also perfect at predicting when something is not going to be in class-1, but 95% and 96% as capable when predicting the other two classes. We should run the model with different layers to see if I can achieve a better result."
   ]
  },
  {
   "cell_type": "code",
   "execution_count": 8,
   "id": "5e897bb8",
   "metadata": {},
   "outputs": [
    {
     "name": "stdout",
     "output_type": "stream",
     "text": [
      "1\n",
      "2\n",
      "3\n",
      "4\n",
      "5\n",
      "6\n"
     ]
    },
    {
     "data": {
      "text/plain": [
       "{1: 0.5555555555555556,\n",
       " 2: 0.9444444444444444,\n",
       " 3: 0.9722222222222222,\n",
       " 4: 0.9722222222222222,\n",
       " 5: 0.9722222222222222,\n",
       " 6: 0.9722222222222222}"
      ]
     },
     "execution_count": 8,
     "metadata": {},
     "output_type": "execute_result"
    }
   ],
   "source": [
    "\n",
    "scores = {}\n",
    "scores_list = []\n",
    "l_range = range(1, 7, 1)\n",
    "\n",
    "from sklearn import metrics\n",
    "\n",
    "for l in l_range:\n",
    "    print(l)\n",
    "    mlp = MLPClassifier(hidden_layer_sizes=(l), max_iter=2500,random_state=8675309)\n",
    "    mlp.fit(X_train, y_train)\n",
    "    y_pred = mlp.predict(X_test)\n",
    "    scores[l] = metrics.accuracy_score(y_test,y_pred)\n",
    "    scores_list.append(metrics.accuracy_score(y_test,y_pred))\n",
    "scores"
   ]
  },
  {
   "cell_type": "markdown",
   "id": "961bff74",
   "metadata": {},
   "source": []
  },
  {
   "cell_type": "markdown",
   "id": "afbae14b",
   "metadata": {},
   "source": [
    "Confusion matrix is promising though I don't like that first number. Lets plot the result."
   ]
  },
  {
   "cell_type": "code",
   "execution_count": 9,
   "id": "223abfb0",
   "metadata": {
    "scrolled": false
   },
   "outputs": [
    {
     "data": {
      "text/plain": [
       "Text(0, 0.5, 'accuracy score')"
      ]
     },
     "execution_count": 9,
     "metadata": {},
     "output_type": "execute_result"
    },
    {
     "data": {
      "image/png": "[encoded data removed]",
      "text/plain": [
       "<Figure size 640x480 with 1 Axes>"
      ]
     },
     "metadata": {},
     "output_type": "display_data"
    }
   ],
   "source": [
    "plt.plot(l_range,scores_list)\n",
    "plt.xlabel('number of layers')\n",
    "plt.ylabel('accuracy score')"
   ]
  },
  {
   "cell_type": "markdown",
   "id": "b71cec46",
   "metadata": {},
   "source": [
    "It's got an elbow at the \"3\" layer mark.  Noice!  Now to run MLPClassifier with three layers and use the \"loop\" trick that Steele, AKA Zach_Alpha, showed me. Two loops to start."
   ]
  },
  {
   "cell_type": "code",
   "execution_count": 10,
   "id": "c9bfefc7",
   "metadata": {
    "scrolled": true
   },
   "outputs": [
    {
     "data": {
      "text/plain": [
       "{(3, 3): 0.9722222222222222,\n",
       " (3, 4): 1.0,\n",
       " (3, 5): 1.0,\n",
       " (3, 6): 0.9444444444444444,\n",
       " (4, 3): 0.9722222222222222,\n",
       " (4, 4): 1.0,\n",
       " (4, 5): 0.9722222222222222,\n",
       " (4, 6): 0.9722222222222222,\n",
       " (5, 3): 1.0,\n",
       " (5, 4): 0.9722222222222222,\n",
       " (5, 5): 0.9722222222222222,\n",
       " (5, 6): 0.9722222222222222,\n",
       " (6, 3): 0.9722222222222222,\n",
       " (6, 4): 0.9722222222222222,\n",
       " (6, 5): 1.0,\n",
       " (6, 6): 0.9722222222222222}"
      ]
     },
     "execution_count": 10,
     "metadata": {},
     "output_type": "execute_result"
    }
   ],
   "source": [
    "scores = {}\n",
    "scores_list = []\n",
    "a = range(3, 7, 1)\n",
    "b = range(3, 7, 1)\n",
    "\n",
    "from sklearn import metrics\n",
    "\n",
    "for ticks_1 in a:\n",
    "    for ticks_2 in b:\n",
    "        mlp = MLPClassifier(hidden_layer_sizes=(ticks_1,ticks_2), max_iter=2500,random_state=8675309)\n",
    "        mlp.fit(X_train, y_train)\n",
    "        y_pred = mlp.predict(X_test)\n",
    "        scores[ticks_1, ticks_2] = metrics.accuracy_score(y_test,y_pred)\n",
    "        scores_list.append(metrics.accuracy_score(y_test,y_pred))\n",
    "scores"
   ]
  },
  {
   "cell_type": "markdown",
   "id": "7769a30a",
   "metadata": {},
   "source": [
    "Look at all the 1's! I'mma run one more time with an extra loop just to be sure."
   ]
  },
  {
   "cell_type": "code",
   "execution_count": 11,
   "id": "974307c1",
   "metadata": {},
   "outputs": [
    {
     "data": {
      "text/plain": [
       "{(3, 3, 3): 1.0,\n",
       " (3, 3, 4): 1.0,\n",
       " (3, 3, 5): 1.0,\n",
       " (3, 3, 6): 0.9722222222222222,\n",
       " (3, 4, 3): 0.9722222222222222,\n",
       " (3, 4, 4): 0.9722222222222222,\n",
       " (3, 4, 5): 0.9722222222222222,\n",
       " (3, 4, 6): 0.9722222222222222,\n",
       " (3, 5, 3): 1.0,\n",
       " (3, 5, 4): 1.0,\n",
       " (3, 5, 5): 0.9722222222222222,\n",
       " (3, 5, 6): 0.9722222222222222,\n",
       " (3, 6, 3): 0.9722222222222222,\n",
       " (3, 6, 4): 0.9722222222222222,\n",
       " (3, 6, 5): 1.0,\n",
       " (3, 6, 6): 1.0,\n",
       " (4, 3, 3): 0.6666666666666666,\n",
       " (4, 3, 4): 1.0,\n",
       " (4, 3, 5): 0.9444444444444444,\n",
       " (4, 3, 6): 1.0,\n",
       " (4, 4, 3): 0.9722222222222222,\n",
       " (4, 4, 4): 0.9722222222222222,\n",
       " (4, 4, 5): 0.9444444444444444,\n",
       " (4, 4, 6): 0.9444444444444444,\n",
       " (4, 5, 3): 0.9722222222222222,\n",
       " (4, 5, 4): 0.9166666666666666,\n",
       " (4, 5, 5): 1.0,\n",
       " (4, 5, 6): 0.9444444444444444,\n",
       " (4, 6, 3): 0.9722222222222222,\n",
       " (4, 6, 4): 0.9444444444444444,\n",
       " (4, 6, 5): 1.0,\n",
       " (4, 6, 6): 0.9444444444444444,\n",
       " (5, 3, 3): 1.0,\n",
       " (5, 3, 4): 0.9722222222222222,\n",
       " (5, 3, 5): 0.9722222222222222,\n",
       " (5, 3, 6): 0.9722222222222222,\n",
       " (5, 4, 3): 0.9722222222222222,\n",
       " (5, 4, 4): 0.9444444444444444,\n",
       " (5, 4, 5): 0.9722222222222222,\n",
       " (5, 4, 6): 0.9444444444444444,\n",
       " (5, 5, 3): 1.0,\n",
       " (5, 5, 4): 0.9444444444444444,\n",
       " (5, 5, 5): 0.9722222222222222,\n",
       " (5, 5, 6): 0.9444444444444444,\n",
       " (5, 6, 3): 0.9444444444444444,\n",
       " (5, 6, 4): 0.9722222222222222,\n",
       " (5, 6, 5): 0.9722222222222222,\n",
       " (5, 6, 6): 0.9444444444444444,\n",
       " (6, 3, 3): 0.5277777777777778,\n",
       " (6, 3, 4): 1.0,\n",
       " (6, 3, 5): 0.9722222222222222,\n",
       " (6, 3, 6): 0.9722222222222222,\n",
       " (6, 4, 3): 1.0,\n",
       " (6, 4, 4): 0.9722222222222222,\n",
       " (6, 4, 5): 0.9722222222222222,\n",
       " (6, 4, 6): 0.9722222222222222,\n",
       " (6, 5, 3): 1.0,\n",
       " (6, 5, 4): 1.0,\n",
       " (6, 5, 5): 0.9444444444444444,\n",
       " (6, 5, 6): 0.9722222222222222,\n",
       " (6, 6, 3): 0.9722222222222222,\n",
       " (6, 6, 4): 0.9722222222222222,\n",
       " (6, 6, 5): 0.9722222222222222,\n",
       " (6, 6, 6): 0.9722222222222222}"
      ]
     },
     "execution_count": 11,
     "metadata": {},
     "output_type": "execute_result"
    }
   ],
   "source": [
    "scores = {}\n",
    "scores_list = []\n",
    "a = range(3, 7, 1)\n",
    "b = range(3, 7, 1)\n",
    "c = range(3, 7, 1)\n",
    "\n",
    "from sklearn import metrics\n",
    "\n",
    "for ticks_1 in a:\n",
    "    for ticks_2 in b:\n",
    "        for ticks_3 in c:\n",
    "            mlp = MLPClassifier(hidden_layer_sizes=(ticks_1,ticks_2,ticks_3), max_iter=2500,random_state=8675309)\n",
    "            mlp.fit(X_train, y_train)\n",
    "            y_pred = mlp.predict(X_test)\n",
    "            scores[ticks_1, ticks_2, ticks_3] = metrics.accuracy_score(y_test,y_pred)\n",
    "            scores_list.append(metrics.accuracy_score(y_test,y_pred))\n",
    "scores"
   ]
  },
  {
   "cell_type": "markdown",
   "id": "55ae0ec8",
   "metadata": {},
   "source": [
    "Looks like 3 layers is where it's at. Let's set things up again and run it using the unknown wine dataset."
   ]
  },
  {
   "cell_type": "code",
   "execution_count": 12,
   "id": "da1c6ce5",
   "metadata": {},
   "outputs": [
    {
     "data": {
      "text/html": [
       "<style>#sk-container-id-2 {color: black;background-color: white;}#sk-container-id-2 pre{padding: 0;}#sk-container-id-2 div.sk-toggleable {background-color: white;}#sk-container-id-2 label.sk-toggleable__label {cursor: pointer;display: block;width: 100%;margin-bottom: 0;padding: 0.3em;box-sizing: border-box;text-align: center;}#sk-container-id-2 label.sk-toggleable__label-arrow:before {content: \"▸\";float: left;margin-right: 0.25em;color: #696969;}#sk-container-id-2 label.sk-toggleable__label-arrow:hover:before {color: black;}#sk-container-id-2 div.sk-estimator:hover label.sk-toggleable__label-arrow:before {color: black;}#sk-container-id-2 div.sk-toggleable__content {max-height: 0;max-width: 0;overflow: hidden;text-align: left;background-color: #f0f8ff;}#sk-container-id-2 div.sk-toggleable__content pre {margin: 0.2em;color: black;border-radius: 0.25em;background-color: #f0f8ff;}#sk-container-id-2 input.sk-toggleable__control:checked~div.sk-toggleable__content {max-height: 200px;max-width: 100%;overflow: auto;}#sk-container-id-2 input.sk-toggleable__control:checked~label.sk-toggleable__label-arrow:before {content: \"▾\";}#sk-container-id-2 div.sk-estimator input.sk-toggleable__control:checked~label.sk-toggleable__label {background-color: #d4ebff;}#sk-container-id-2 div.sk-label input.sk-toggleable__control:checked~label.sk-toggleable__label {background-color: #d4ebff;}#sk-container-id-2 input.sk-hidden--visually {border: 0;clip: rect(1px 1px 1px 1px);clip: rect(1px, 1px, 1px, 1px);height: 1px;margin: -1px;overflow: hidden;padding: 0;position: absolute;width: 1px;}#sk-container-id-2 div.sk-estimator {font-family: monospace;background-color: #f0f8ff;border: 1px dotted black;border-radius: 0.25em;box-sizing: border-box;margin-bottom: 0.5em;}#sk-container-id-2 div.sk-estimator:hover {background-color: #d4ebff;}#sk-container-id-2 div.sk-parallel-item::after {content: \"\";width: 100%;border-bottom: 1px solid gray;flex-grow: 1;}#sk-container-id-2 div.sk-label:hover label.sk-toggleable__label {background-color: #d4ebff;}#sk-container-id-2 div.sk-serial::before {content: \"\";position: absolute;border-left: 1px solid gray;box-sizing: border-box;top: 0;bottom: 0;left: 50%;z-index: 0;}#sk-container-id-2 div.sk-serial {display: flex;flex-direction: column;align-items: center;background-color: white;padding-right: 0.2em;padding-left: 0.2em;position: relative;}#sk-container-id-2 div.sk-item {position: relative;z-index: 1;}#sk-container-id-2 div.sk-parallel {display: flex;align-items: stretch;justify-content: center;background-color: white;position: relative;}#sk-container-id-2 div.sk-item::before, #sk-container-id-2 div.sk-parallel-item::before {content: \"\";position: absolute;border-left: 1px solid gray;box-sizing: border-box;top: 0;bottom: 0;left: 50%;z-index: -1;}#sk-container-id-2 div.sk-parallel-item {display: flex;flex-direction: column;z-index: 1;position: relative;background-color: white;}#sk-container-id-2 div.sk-parallel-item:first-child::after {align-self: flex-end;width: 50%;}#sk-container-id-2 div.sk-parallel-item:last-child::after {align-self: flex-start;width: 50%;}#sk-container-id-2 div.sk-parallel-item:only-child::after {width: 0;}#sk-container-id-2 div.sk-dashed-wrapped {border: 1px dashed gray;margin: 0 0.4em 0.5em 0.4em;box-sizing: border-box;padding-bottom: 0.4em;background-color: white;}#sk-container-id-2 div.sk-label label {font-family: monospace;font-weight: bold;display: inline-block;line-height: 1.2em;}#sk-container-id-2 div.sk-label-container {text-align: center;}#sk-container-id-2 div.sk-container {/* jupyter's `normalize.less` sets `[hidden] { display: none; }` but bootstrap.min.css set `[hidden] { display: none !important; }` so we also need the `!important` here to be able to override the default hidden behavior on the sphinx rendered scikit-learn.org. See: https://github.com/scikit-learn/scikit-learn/issues/21755 */display: inline-block !important;position: relative;}#sk-container-id-2 div.sk-text-repr-fallback {display: none;}</style><div id=\"sk-container-id-2\" class=\"sk-top-container\"><div class=\"sk-text-repr-fallback\"><pre>MLPClassifier(hidden_layer_sizes=(3, 3, 3), max_iter=2500, random_state=8675309)</pre><b>In a Jupyter environment, please rerun this cell to show the HTML representation or trust the notebook. <br />On GitHub, the HTML representation is unable to render, please try loading this page with nbviewer.org.</b></div><div class=\"sk-container\" hidden><div class=\"sk-item\"><div class=\"sk-estimator sk-toggleable\"><input class=\"sk-toggleable__control sk-hidden--visually\" id=\"sk-estimator-id-2\" type=\"checkbox\" checked><label for=\"sk-estimator-id-2\" class=\"sk-toggleable__label sk-toggleable__label-arrow\">MLPClassifier</label><div class=\"sk-toggleable__content\"><pre>MLPClassifier(hidden_layer_sizes=(3, 3, 3), max_iter=2500, random_state=8675309)</pre></div></div></div></div></div>"
      ],
      "text/plain": [
       "MLPClassifier(hidden_layer_sizes=(3, 3, 3), max_iter=2500, random_state=8675309)"
      ]
     },
     "execution_count": 12,
     "metadata": {},
     "output_type": "execute_result"
    }
   ],
   "source": [
    "mlp = MLPClassifier(hidden_layer_sizes=(3,3,3), max_iter=2500,random_state=8675309)\n",
    "mlp.fit(X_train, y_train)"
   ]
  },
  {
   "cell_type": "code",
   "execution_count": 13,
   "id": "5b8402e3",
   "metadata": {},
   "outputs": [
    {
     "name": "stdout",
     "output_type": "stream",
     "text": [
      "[[15  0  0]\n",
      " [ 0 10  0]\n",
      " [ 0  0 11]]\n",
      "              precision    recall  f1-score   support\n",
      "\n",
      "           0       1.00      1.00      1.00        15\n",
      "           1       1.00      1.00      1.00        10\n",
      "           2       1.00      1.00      1.00        11\n",
      "\n",
      "    accuracy                           1.00        36\n",
      "   macro avg       1.00      1.00      1.00        36\n",
      "weighted avg       1.00      1.00      1.00        36\n",
      "\n"
     ]
    }
   ],
   "source": [
    "predictions = mlp.predict(X_test)\n",
    "\n",
    "print(confusion_matrix(y_test,predictions))\n",
    "print(classification_report(y_test,predictions))"
   ]
  },
  {
   "cell_type": "markdown",
   "id": "ed0cb4fe",
   "metadata": {},
   "source": [
    "The confusion matrix backs up the information observed from the scores of the last run with 3 layers and 3 loops.  The model is perfectly predicting all three classes.  The implications here are that this model is likely to report accurately when given new data from the unknown_wine dataset."
   ]
  },
  {
   "cell_type": "code",
   "execution_count": 14,
   "id": "7bd752b4",
   "metadata": {
    "scrolled": true
   },
   "outputs": [],
   "source": [
    "classes = {0:'0',1:'1',2:'2'}\n",
    "mystery = pd.read_csv(\"unknown_wine.csv\")\n",
    "mystery_cols = ['alcohol', 'malic_acid','ash','alcalinity_of_ash','magnesium','total_phenols','flavanoids', 'nonflavanoid_phenols', 'proanthocyanins', 'color_intensity', 'hue', 'od280/od315_of_diluted_wines', 'proline']"
   ]
  },
  {
   "cell_type": "code",
   "execution_count": 15,
   "id": "b40f1ba6",
   "metadata": {},
   "outputs": [
    {
     "data": {
      "text/html": [
       "<div>\n",
       "<style scoped>\n",
       "    .dataframe tbody tr th:only-of-type {\n",
       "        vertical-align: middle;\n",
       "    }\n",
       "\n",
       "    .dataframe tbody tr th {\n",
       "        vertical-align: top;\n",
       "    }\n",
       "\n",
       "    .dataframe thead th {\n",
       "        text-align: right;\n",
       "    }\n",
       "</style>\n",
       "<table border=\"1\" class=\"dataframe\">\n",
       "  <thead>\n",
       "    <tr style=\"text-align: right;\">\n",
       "      <th></th>\n",
       "      <th>alcohol</th>\n",
       "      <th>malic_acid</th>\n",
       "      <th>ash</th>\n",
       "      <th>alcalinity_of_ash</th>\n",
       "      <th>magnesium</th>\n",
       "      <th>total_phenols</th>\n",
       "      <th>flavanoids</th>\n",
       "      <th>nonflavanoid_phenols</th>\n",
       "      <th>proanthocyanins</th>\n",
       "      <th>color_intensity</th>\n",
       "      <th>hue</th>\n",
       "      <th>od280/od315_of_diluted_wines</th>\n",
       "      <th>proline</th>\n",
       "    </tr>\n",
       "  </thead>\n",
       "  <tbody>\n",
       "    <tr>\n",
       "      <th>0</th>\n",
       "      <td>2.480115</td>\n",
       "      <td>1.577093</td>\n",
       "      <td>1.766757</td>\n",
       "      <td>7.542816</td>\n",
       "      <td>43.456511</td>\n",
       "      <td>0.569810</td>\n",
       "      <td>0.075239</td>\n",
       "      <td>0.267335</td>\n",
       "      <td>0.744527</td>\n",
       "      <td>0.975456</td>\n",
       "      <td>0.741519</td>\n",
       "      <td>2.763938</td>\n",
       "      <td>1228.781864</td>\n",
       "    </tr>\n",
       "    <tr>\n",
       "      <th>1</th>\n",
       "      <td>1.074171</td>\n",
       "      <td>1.125832</td>\n",
       "      <td>2.557246</td>\n",
       "      <td>4.421963</td>\n",
       "      <td>57.339151</td>\n",
       "      <td>1.677453</td>\n",
       "      <td>1.027255</td>\n",
       "      <td>0.266734</td>\n",
       "      <td>1.037521</td>\n",
       "      <td>6.093875</td>\n",
       "      <td>0.400008</td>\n",
       "      <td>2.629353</td>\n",
       "      <td>620.263632</td>\n",
       "    </tr>\n",
       "    <tr>\n",
       "      <th>2</th>\n",
       "      <td>3.516777</td>\n",
       "      <td>0.819709</td>\n",
       "      <td>0.462774</td>\n",
       "      <td>2.328977</td>\n",
       "      <td>60.776751</td>\n",
       "      <td>0.950360</td>\n",
       "      <td>2.312480</td>\n",
       "      <td>0.114245</td>\n",
       "      <td>1.453748</td>\n",
       "      <td>1.566772</td>\n",
       "      <td>0.249111</td>\n",
       "      <td>0.948954</td>\n",
       "      <td>417.939695</td>\n",
       "    </tr>\n",
       "    <tr>\n",
       "      <th>3</th>\n",
       "      <td>13.189798</td>\n",
       "      <td>1.402826</td>\n",
       "      <td>0.153316</td>\n",
       "      <td>7.621558</td>\n",
       "      <td>0.440191</td>\n",
       "      <td>0.103332</td>\n",
       "      <td>2.878385</td>\n",
       "      <td>0.016165</td>\n",
       "      <td>1.558074</td>\n",
       "      <td>5.961709</td>\n",
       "      <td>0.338151</td>\n",
       "      <td>1.608835</td>\n",
       "      <td>233.606713</td>\n",
       "    </tr>\n",
       "    <tr>\n",
       "      <th>4</th>\n",
       "      <td>11.973053</td>\n",
       "      <td>1.838887</td>\n",
       "      <td>0.945975</td>\n",
       "      <td>1.269000</td>\n",
       "      <td>83.484182</td>\n",
       "      <td>0.934233</td>\n",
       "      <td>0.448263</td>\n",
       "      <td>0.038872</td>\n",
       "      <td>0.488293</td>\n",
       "      <td>4.358916</td>\n",
       "      <td>0.482324</td>\n",
       "      <td>0.084788</td>\n",
       "      <td>387.198226</td>\n",
       "    </tr>\n",
       "    <tr>\n",
       "      <th>5</th>\n",
       "      <td>2.284138</td>\n",
       "      <td>0.048992</td>\n",
       "      <td>0.211198</td>\n",
       "      <td>4.088945</td>\n",
       "      <td>18.957613</td>\n",
       "      <td>1.192519</td>\n",
       "      <td>1.647511</td>\n",
       "      <td>0.005231</td>\n",
       "      <td>1.038589</td>\n",
       "      <td>2.101098</td>\n",
       "      <td>0.237541</td>\n",
       "      <td>1.672787</td>\n",
       "      <td>121.134473</td>\n",
       "    </tr>\n",
       "    <tr>\n",
       "      <th>6</th>\n",
       "      <td>9.463899</td>\n",
       "      <td>0.787199</td>\n",
       "      <td>1.863438</td>\n",
       "      <td>16.869074</td>\n",
       "      <td>31.736868</td>\n",
       "      <td>1.470403</td>\n",
       "      <td>0.534720</td>\n",
       "      <td>0.206582</td>\n",
       "      <td>0.633736</td>\n",
       "      <td>4.444610</td>\n",
       "      <td>0.033384</td>\n",
       "      <td>0.925355</td>\n",
       "      <td>328.508943</td>\n",
       "    </tr>\n",
       "    <tr>\n",
       "      <th>7</th>\n",
       "      <td>6.453939</td>\n",
       "      <td>1.676532</td>\n",
       "      <td>2.153574</td>\n",
       "      <td>13.765152</td>\n",
       "      <td>70.390073</td>\n",
       "      <td>1.749210</td>\n",
       "      <td>2.721021</td>\n",
       "      <td>0.252128</td>\n",
       "      <td>0.152867</td>\n",
       "      <td>0.582114</td>\n",
       "      <td>0.507068</td>\n",
       "      <td>2.055239</td>\n",
       "      <td>59.729064</td>\n",
       "    </tr>\n",
       "    <tr>\n",
       "      <th>8</th>\n",
       "      <td>12.740552</td>\n",
       "      <td>2.854646</td>\n",
       "      <td>0.932969</td>\n",
       "      <td>8.626371</td>\n",
       "      <td>44.557706</td>\n",
       "      <td>0.405552</td>\n",
       "      <td>1.105890</td>\n",
       "      <td>0.219005</td>\n",
       "      <td>0.393723</td>\n",
       "      <td>2.706763</td>\n",
       "      <td>0.983953</td>\n",
       "      <td>1.070769</td>\n",
       "      <td>250.301469</td>\n",
       "    </tr>\n",
       "    <tr>\n",
       "      <th>9</th>\n",
       "      <td>9.686586</td>\n",
       "      <td>1.232883</td>\n",
       "      <td>1.475132</td>\n",
       "      <td>3.560106</td>\n",
       "      <td>12.221049</td>\n",
       "      <td>1.229565</td>\n",
       "      <td>1.495698</td>\n",
       "      <td>0.153813</td>\n",
       "      <td>0.886209</td>\n",
       "      <td>1.506817</td>\n",
       "      <td>0.939698</td>\n",
       "      <td>0.921325</td>\n",
       "      <td>187.457035</td>\n",
       "    </tr>\n",
       "  </tbody>\n",
       "</table>\n",
       "</div>"
      ],
      "text/plain": [
       "     alcohol  malic_acid       ash  alcalinity_of_ash  magnesium  \\\n",
       "0   2.480115    1.577093  1.766757           7.542816  43.456511   \n",
       "1   1.074171    1.125832  2.557246           4.421963  57.339151   \n",
       "2   3.516777    0.819709  0.462774           2.328977  60.776751   \n",
       "3  13.189798    1.402826  0.153316           7.621558   0.440191   \n",
       "4  11.973053    1.838887  0.945975           1.269000  83.484182   \n",
       "5   2.284138    0.048992  0.211198           4.088945  18.957613   \n",
       "6   9.463899    0.787199  1.863438          16.869074  31.736868   \n",
       "7   6.453939    1.676532  2.153574          13.765152  70.390073   \n",
       "8  12.740552    2.854646  0.932969           8.626371  44.557706   \n",
       "9   9.686586    1.232883  1.475132           3.560106  12.221049   \n",
       "\n",
       "   total_phenols  flavanoids  nonflavanoid_phenols  proanthocyanins  \\\n",
       "0       0.569810    0.075239              0.267335         0.744527   \n",
       "1       1.677453    1.027255              0.266734         1.037521   \n",
       "2       0.950360    2.312480              0.114245         1.453748   \n",
       "3       0.103332    2.878385              0.016165         1.558074   \n",
       "4       0.934233    0.448263              0.038872         0.488293   \n",
       "5       1.192519    1.647511              0.005231         1.038589   \n",
       "6       1.470403    0.534720              0.206582         0.633736   \n",
       "7       1.749210    2.721021              0.252128         0.152867   \n",
       "8       0.405552    1.105890              0.219005         0.393723   \n",
       "9       1.229565    1.495698              0.153813         0.886209   \n",
       "\n",
       "   color_intensity       hue  od280/od315_of_diluted_wines      proline  \n",
       "0         0.975456  0.741519                      2.763938  1228.781864  \n",
       "1         6.093875  0.400008                      2.629353   620.263632  \n",
       "2         1.566772  0.249111                      0.948954   417.939695  \n",
       "3         5.961709  0.338151                      1.608835   233.606713  \n",
       "4         4.358916  0.482324                      0.084788   387.198226  \n",
       "5         2.101098  0.237541                      1.672787   121.134473  \n",
       "6         4.444610  0.033384                      0.925355   328.508943  \n",
       "7         0.582114  0.507068                      2.055239    59.729064  \n",
       "8         2.706763  0.983953                      1.070769   250.301469  \n",
       "9         1.506817  0.939698                      0.921325   187.457035  "
      ]
     },
     "execution_count": 15,
     "metadata": {},
     "output_type": "execute_result"
    }
   ],
   "source": [
    "mystery"
   ]
  },
  {
   "cell_type": "code",
   "execution_count": 16,
   "id": "198bb0c4",
   "metadata": {},
   "outputs": [
    {
     "name": "stderr",
     "output_type": "stream",
     "text": [
      "C:\\Users\\Brian\\anaconda3\\lib\\site-packages\\sklearn\\base.py:413: UserWarning: X has feature names, but StandardScaler was fitted without feature names\n",
      "  warnings.warn(\n"
     ]
    }
   ],
   "source": [
    "mystery_scaled = scaler.transform(mystery)\n"
   ]
  },
  {
   "cell_type": "markdown",
   "id": "df151d6b",
   "metadata": {},
   "source": [
    "I think I can ignore this warning.  Yeah, I just need the classes and I'm going to give them the most unimaginative names possible."
   ]
  },
  {
   "cell_type": "code",
   "execution_count": 17,
   "id": "25343e37",
   "metadata": {},
   "outputs": [],
   "source": [
    "predictions = mlp.predict(mystery_scaled)"
   ]
  },
  {
   "cell_type": "markdown",
   "id": "5d1e1f78",
   "metadata": {},
   "source": [
    "Moment of truth, time to run this and predict all ten."
   ]
  },
  {
   "cell_type": "code",
   "execution_count": 18,
   "id": "bcb4fc8b",
   "metadata": {},
   "outputs": [
    {
     "name": "stdout",
     "output_type": "stream",
     "text": [
      "1\n",
      "1\n",
      "1\n",
      "1\n",
      "2\n",
      "1\n",
      "2\n",
      "1\n",
      "1\n",
      "1\n"
     ]
    }
   ],
   "source": [
    "classes = {0:'0',1:'1',2:'2'}\n",
    "y_predict = mlp.predict(mystery_scaled)\n",
    "\n",
    "print(classes[y_predict[0]])\n",
    "print(classes[y_predict[1]])\n",
    "print(classes[y_predict[2]])\n",
    "print(classes[y_predict[3]])\n",
    "print(classes[y_predict[4]])\n",
    "print(classes[y_predict[5]])\n",
    "print(classes[y_predict[6]])\n",
    "print(classes[y_predict[7]])\n",
    "print(classes[y_predict[8]])\n",
    "print(classes[y_predict[9]])"
   ]
  },
  {
   "cell_type": "markdown",
   "id": "c09494e7",
   "metadata": {},
   "source": [
    "Ok, it's predicting most are class-1 and two of them are class-2.  Now to get the probabilites that this is accurate."
   ]
  },
  {
   "cell_type": "code",
   "execution_count": 19,
   "id": "4908244b",
   "metadata": {},
   "outputs": [
    {
     "data": {
      "text/plain": [
       "array([[1.22724253e-01, 8.69606059e-01, 7.66968763e-03],\n",
       "       [5.64326275e-02, 9.05372162e-01, 3.81952105e-02],\n",
       "       [3.98126741e-02, 9.48395678e-01, 1.17916482e-02],\n",
       "       [9.50029429e-02, 8.98116445e-01, 6.88061240e-03],\n",
       "       [5.11616386e-02, 2.11625811e-04, 9.48626736e-01],\n",
       "       [3.63199011e-02, 9.59231107e-01, 4.44899156e-03],\n",
       "       [6.49768720e-03, 2.07052674e-09, 9.93502311e-01],\n",
       "       [5.99278654e-02, 8.92706205e-01, 4.73659295e-02],\n",
       "       [5.47755068e-02, 9.39843126e-01, 5.38136754e-03],\n",
       "       [7.33180737e-02, 9.20542355e-01, 6.13957149e-03]])"
      ]
     },
     "execution_count": 19,
     "metadata": {},
     "output_type": "execute_result"
    }
   ],
   "source": [
    "mlp.predict_proba(mystery_scaled)"
   ]
  },
  {
   "cell_type": "markdown",
   "id": "35dc8aa6",
   "metadata": {},
   "source": [
    "Sweet! High confidence that these scores are accurate."
   ]
  },
  {
   "cell_type": "code",
   "execution_count": null,
   "id": "50201ab1",
   "metadata": {},
   "outputs": [],
   "source": []
  }
 ],
 "metadata": {
  "kernelspec": {
   "display_name": "Python 3 (ipykernel)",
   "language": "python",
   "name": "python3"
  },
  "language_info": {
   "codemirror_mode": {
    "name": "ipython",
    "version": 3
   },
   "file_extension": ".py",
   "mimetype": "text/x-python",
   "name": "python",
   "nbconvert_exporter": "python",
   "pygments_lexer": "ipython3",
   "version": "3.9.13"
  }
 },
 "nbformat": 4,
 "nbformat_minor": 5
}
